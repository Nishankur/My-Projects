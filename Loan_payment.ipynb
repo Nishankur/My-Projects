{
 "cells": [
  {
   "cell_type": "code",
   "execution_count": 460,
   "id": "fda4d3fb",
   "metadata": {},
   "outputs": [],
   "source": [
    "import itertools\n",
    "import numpy as np\n",
    "import matplotlib.pyplot as plt\n",
    "from matplotlib.ticker import NullFormatter\n",
    "import pandas as pd\n",
    "import matplotlib.ticker as ticker\n",
    "from sklearn import preprocessing\n",
    "%matplotlib inline"
   ]
  },
  {
   "cell_type": "code",
   "execution_count": 2,
   "id": "9401d141",
   "metadata": {},
   "outputs": [
    {
     "data": {
      "text/html": [
       "<div>\n",
       "<style scoped>\n",
       "    .dataframe tbody tr th:only-of-type {\n",
       "        vertical-align: middle;\n",
       "    }\n",
       "\n",
       "    .dataframe tbody tr th {\n",
       "        vertical-align: top;\n",
       "    }\n",
       "\n",
       "    .dataframe thead th {\n",
       "        text-align: right;\n",
       "    }\n",
       "</style>\n",
       "<table border=\"1\" class=\"dataframe\">\n",
       "  <thead>\n",
       "    <tr style=\"text-align: right;\">\n",
       "      <th></th>\n",
       "      <th>RowNumber</th>\n",
       "      <th>CustomerId</th>\n",
       "      <th>Surname</th>\n",
       "      <th>CreditScore</th>\n",
       "      <th>Geography</th>\n",
       "      <th>Gender</th>\n",
       "      <th>Age</th>\n",
       "      <th>Tenure</th>\n",
       "      <th>Balance</th>\n",
       "      <th>NumOfProducts</th>\n",
       "      <th>HasCrCard</th>\n",
       "      <th>IsActiveMember</th>\n",
       "      <th>EstimatedSalary</th>\n",
       "      <th>Exited</th>\n",
       "    </tr>\n",
       "  </thead>\n",
       "  <tbody>\n",
       "    <tr>\n",
       "      <th>0</th>\n",
       "      <td>1</td>\n",
       "      <td>15634602</td>\n",
       "      <td>Hargrave</td>\n",
       "      <td>619</td>\n",
       "      <td>France</td>\n",
       "      <td>Female</td>\n",
       "      <td>42</td>\n",
       "      <td>2</td>\n",
       "      <td>0.00</td>\n",
       "      <td>1</td>\n",
       "      <td>1</td>\n",
       "      <td>1</td>\n",
       "      <td>101348.88</td>\n",
       "      <td>1</td>\n",
       "    </tr>\n",
       "    <tr>\n",
       "      <th>1</th>\n",
       "      <td>2</td>\n",
       "      <td>15647311</td>\n",
       "      <td>Hill</td>\n",
       "      <td>608</td>\n",
       "      <td>Spain</td>\n",
       "      <td>Female</td>\n",
       "      <td>41</td>\n",
       "      <td>1</td>\n",
       "      <td>83807.86</td>\n",
       "      <td>1</td>\n",
       "      <td>0</td>\n",
       "      <td>1</td>\n",
       "      <td>112542.58</td>\n",
       "      <td>0</td>\n",
       "    </tr>\n",
       "    <tr>\n",
       "      <th>2</th>\n",
       "      <td>3</td>\n",
       "      <td>15619304</td>\n",
       "      <td>Onio</td>\n",
       "      <td>502</td>\n",
       "      <td>France</td>\n",
       "      <td>Female</td>\n",
       "      <td>42</td>\n",
       "      <td>8</td>\n",
       "      <td>159660.80</td>\n",
       "      <td>3</td>\n",
       "      <td>1</td>\n",
       "      <td>0</td>\n",
       "      <td>113931.57</td>\n",
       "      <td>1</td>\n",
       "    </tr>\n",
       "    <tr>\n",
       "      <th>3</th>\n",
       "      <td>4</td>\n",
       "      <td>15701354</td>\n",
       "      <td>Boni</td>\n",
       "      <td>699</td>\n",
       "      <td>France</td>\n",
       "      <td>Female</td>\n",
       "      <td>39</td>\n",
       "      <td>1</td>\n",
       "      <td>0.00</td>\n",
       "      <td>2</td>\n",
       "      <td>0</td>\n",
       "      <td>0</td>\n",
       "      <td>93826.63</td>\n",
       "      <td>0</td>\n",
       "    </tr>\n",
       "    <tr>\n",
       "      <th>4</th>\n",
       "      <td>5</td>\n",
       "      <td>15737888</td>\n",
       "      <td>Mitchell</td>\n",
       "      <td>850</td>\n",
       "      <td>Spain</td>\n",
       "      <td>Female</td>\n",
       "      <td>43</td>\n",
       "      <td>2</td>\n",
       "      <td>125510.82</td>\n",
       "      <td>1</td>\n",
       "      <td>1</td>\n",
       "      <td>1</td>\n",
       "      <td>79084.10</td>\n",
       "      <td>0</td>\n",
       "    </tr>\n",
       "  </tbody>\n",
       "</table>\n",
       "</div>"
      ],
      "text/plain": [
       "   RowNumber  CustomerId   Surname  CreditScore Geography  Gender  Age  \\\n",
       "0          1    15634602  Hargrave          619    France  Female   42   \n",
       "1          2    15647311      Hill          608     Spain  Female   41   \n",
       "2          3    15619304      Onio          502    France  Female   42   \n",
       "3          4    15701354      Boni          699    France  Female   39   \n",
       "4          5    15737888  Mitchell          850     Spain  Female   43   \n",
       "\n",
       "   Tenure    Balance  NumOfProducts  HasCrCard  IsActiveMember  \\\n",
       "0       2       0.00              1          1               1   \n",
       "1       1   83807.86              1          0               1   \n",
       "2       8  159660.80              3          1               0   \n",
       "3       1       0.00              2          0               0   \n",
       "4       2  125510.82              1          1               1   \n",
       "\n",
       "   EstimatedSalary  Exited  \n",
       "0        101348.88       1  \n",
       "1        112542.58       0  \n",
       "2        113931.57       1  \n",
       "3         93826.63       0  \n",
       "4         79084.10       0  "
      ]
     },
     "execution_count": 2,
     "metadata": {},
     "output_type": "execute_result"
    }
   ],
   "source": [
    "df = pd.read_csv('C:\\\\Users\\\\Nishankur\\\\Downloads\\\\Churn_Modelling.csv')\n",
    "df.head()"
   ]
  },
  {
   "cell_type": "markdown",
   "id": "bca754c7",
   "metadata": {},
   "source": [
    "   ## Data Visualization "
   ]
  },
  {
   "cell_type": "code",
   "execution_count": 5,
   "id": "dc8858e1",
   "metadata": {},
   "outputs": [],
   "source": [
    "df.drop(\"RowNumber\",axis=1,inplace=True)"
   ]
  },
  {
   "cell_type": "code",
   "execution_count": 8,
   "id": "6371a9ab",
   "metadata": {},
   "outputs": [
    {
     "data": {
      "text/plain": [
       "CustomerId         0\n",
       "Surname            0\n",
       "CreditScore        0\n",
       "Geography          0\n",
       "Gender             0\n",
       "Age                0\n",
       "Tenure             0\n",
       "Balance            0\n",
       "NumOfProducts      0\n",
       "HasCrCard          0\n",
       "IsActiveMember     0\n",
       "EstimatedSalary    0\n",
       "Exited             0\n",
       "dtype: int64"
      ]
     },
     "execution_count": 8,
     "metadata": {},
     "output_type": "execute_result"
    }
   ],
   "source": [
    "df.isnull().sum()"
   ]
  },
  {
   "cell_type": "code",
   "execution_count": 381,
   "id": "40918902",
   "metadata": {},
   "outputs": [
    {
     "data": {
      "text/html": [
       "<div>\n",
       "<style scoped>\n",
       "    .dataframe tbody tr th:only-of-type {\n",
       "        vertical-align: middle;\n",
       "    }\n",
       "\n",
       "    .dataframe tbody tr th {\n",
       "        vertical-align: top;\n",
       "    }\n",
       "\n",
       "    .dataframe thead th {\n",
       "        text-align: right;\n",
       "    }\n",
       "</style>\n",
       "<table border=\"1\" class=\"dataframe\">\n",
       "  <thead>\n",
       "    <tr style=\"text-align: right;\">\n",
       "      <th></th>\n",
       "      <th>CreditScore</th>\n",
       "      <th>Age</th>\n",
       "      <th>Tenure</th>\n",
       "      <th>Balance</th>\n",
       "      <th>NumOfProducts</th>\n",
       "      <th>HasCrCard</th>\n",
       "      <th>IsActiveMember</th>\n",
       "      <th>EstimatedSalary</th>\n",
       "      <th>Exited</th>\n",
       "      <th>random</th>\n",
       "    </tr>\n",
       "  </thead>\n",
       "  <tbody>\n",
       "    <tr>\n",
       "      <th>count</th>\n",
       "      <td>10000.000000</td>\n",
       "      <td>10000.000000</td>\n",
       "      <td>10000.000000</td>\n",
       "      <td>10000.000000</td>\n",
       "      <td>10000.000000</td>\n",
       "      <td>10000.00000</td>\n",
       "      <td>10000.000000</td>\n",
       "      <td>10000.000000</td>\n",
       "      <td>10000.000000</td>\n",
       "      <td>10000.000000</td>\n",
       "    </tr>\n",
       "    <tr>\n",
       "      <th>mean</th>\n",
       "      <td>650.528800</td>\n",
       "      <td>38.921800</td>\n",
       "      <td>5.012800</td>\n",
       "      <td>76485.889288</td>\n",
       "      <td>1.530200</td>\n",
       "      <td>0.70550</td>\n",
       "      <td>0.515100</td>\n",
       "      <td>100090.239881</td>\n",
       "      <td>0.203700</td>\n",
       "      <td>0.501616</td>\n",
       "    </tr>\n",
       "    <tr>\n",
       "      <th>std</th>\n",
       "      <td>96.653299</td>\n",
       "      <td>10.487806</td>\n",
       "      <td>2.892174</td>\n",
       "      <td>62397.405202</td>\n",
       "      <td>0.581654</td>\n",
       "      <td>0.45584</td>\n",
       "      <td>0.499797</td>\n",
       "      <td>57510.492818</td>\n",
       "      <td>0.402769</td>\n",
       "      <td>0.289479</td>\n",
       "    </tr>\n",
       "    <tr>\n",
       "      <th>min</th>\n",
       "      <td>350.000000</td>\n",
       "      <td>18.000000</td>\n",
       "      <td>0.000000</td>\n",
       "      <td>0.000000</td>\n",
       "      <td>1.000000</td>\n",
       "      <td>0.00000</td>\n",
       "      <td>0.000000</td>\n",
       "      <td>11.580000</td>\n",
       "      <td>0.000000</td>\n",
       "      <td>0.000352</td>\n",
       "    </tr>\n",
       "    <tr>\n",
       "      <th>25%</th>\n",
       "      <td>584.000000</td>\n",
       "      <td>32.000000</td>\n",
       "      <td>3.000000</td>\n",
       "      <td>0.000000</td>\n",
       "      <td>1.000000</td>\n",
       "      <td>0.00000</td>\n",
       "      <td>0.000000</td>\n",
       "      <td>51002.110000</td>\n",
       "      <td>0.000000</td>\n",
       "      <td>0.252430</td>\n",
       "    </tr>\n",
       "    <tr>\n",
       "      <th>50%</th>\n",
       "      <td>652.000000</td>\n",
       "      <td>37.000000</td>\n",
       "      <td>5.000000</td>\n",
       "      <td>97198.540000</td>\n",
       "      <td>1.000000</td>\n",
       "      <td>1.00000</td>\n",
       "      <td>1.000000</td>\n",
       "      <td>100193.915000</td>\n",
       "      <td>0.000000</td>\n",
       "      <td>0.502785</td>\n",
       "    </tr>\n",
       "    <tr>\n",
       "      <th>75%</th>\n",
       "      <td>718.000000</td>\n",
       "      <td>44.000000</td>\n",
       "      <td>7.000000</td>\n",
       "      <td>127644.240000</td>\n",
       "      <td>2.000000</td>\n",
       "      <td>1.00000</td>\n",
       "      <td>1.000000</td>\n",
       "      <td>149388.247500</td>\n",
       "      <td>0.000000</td>\n",
       "      <td>0.752229</td>\n",
       "    </tr>\n",
       "    <tr>\n",
       "      <th>max</th>\n",
       "      <td>850.000000</td>\n",
       "      <td>92.000000</td>\n",
       "      <td>10.000000</td>\n",
       "      <td>250898.090000</td>\n",
       "      <td>4.000000</td>\n",
       "      <td>1.00000</td>\n",
       "      <td>1.000000</td>\n",
       "      <td>199992.480000</td>\n",
       "      <td>1.000000</td>\n",
       "      <td>0.999947</td>\n",
       "    </tr>\n",
       "  </tbody>\n",
       "</table>\n",
       "</div>"
      ],
      "text/plain": [
       "        CreditScore           Age        Tenure        Balance  NumOfProducts  \\\n",
       "count  10000.000000  10000.000000  10000.000000   10000.000000   10000.000000   \n",
       "mean     650.528800     38.921800      5.012800   76485.889288       1.530200   \n",
       "std       96.653299     10.487806      2.892174   62397.405202       0.581654   \n",
       "min      350.000000     18.000000      0.000000       0.000000       1.000000   \n",
       "25%      584.000000     32.000000      3.000000       0.000000       1.000000   \n",
       "50%      652.000000     37.000000      5.000000   97198.540000       1.000000   \n",
       "75%      718.000000     44.000000      7.000000  127644.240000       2.000000   \n",
       "max      850.000000     92.000000     10.000000  250898.090000       4.000000   \n",
       "\n",
       "         HasCrCard  IsActiveMember  EstimatedSalary        Exited  \\\n",
       "count  10000.00000    10000.000000     10000.000000  10000.000000   \n",
       "mean       0.70550        0.515100    100090.239881      0.203700   \n",
       "std        0.45584        0.499797     57510.492818      0.402769   \n",
       "min        0.00000        0.000000        11.580000      0.000000   \n",
       "25%        0.00000        0.000000     51002.110000      0.000000   \n",
       "50%        1.00000        1.000000    100193.915000      0.000000   \n",
       "75%        1.00000        1.000000    149388.247500      0.000000   \n",
       "max        1.00000        1.000000    199992.480000      1.000000   \n",
       "\n",
       "             random  \n",
       "count  10000.000000  \n",
       "mean       0.501616  \n",
       "std        0.289479  \n",
       "min        0.000352  \n",
       "25%        0.252430  \n",
       "50%        0.502785  \n",
       "75%        0.752229  \n",
       "max        0.999947  "
      ]
     },
     "execution_count": 381,
     "metadata": {},
     "output_type": "execute_result"
    }
   ],
   "source": [
    "df.describe()"
   ]
  },
  {
   "cell_type": "code",
   "execution_count": 399,
   "id": "6d951f42",
   "metadata": {
    "scrolled": true
   },
   "outputs": [
    {
     "data": {
      "text/plain": [
       "<AxesSubplot:xlabel='Exited', ylabel='count'>"
      ]
     },
     "execution_count": 399,
     "metadata": {},
     "output_type": "execute_result"
    },
    {
     "data": {
      "image/png": "[encoded data removed]",
      "text/plain": [
       "<Figure size 432x288 with 1 Axes>"
      ]
     },
     "metadata": {
      "needs_background": "light"
     },
     "output_type": "display_data"
    }
   ],
   "source": [
    "sns.countplot(x='Exited',data=df, hue='Exited')"
   ]
  },
  {
   "cell_type": "markdown",
   "id": "95b5f337",
   "metadata": {},
   "source": [
    "We can see that the sample size of retained customers is much higher than that of the exited customers. Hence, we will mostly focus on the exiting customers for analysis. Later, for predictions we will use resampling methods to get equal proportion of customer data, so that we have a better model.\n",
    "\n",
    "Also, it is unclear whethter the exiting customers stopped using a service or quit the bank itself, since some of them still have balance in their accounts. Hence, we will assume that the customer has either exited the bank or a product."
   ]
  },
  {
   "cell_type": "code",
   "execution_count": 18,
   "id": "7864f350",
   "metadata": {},
   "outputs": [],
   "source": [
    "df.drop(['CustomerId','Surname'],axis=1,inplace=True)"
   ]
  },
  {
   "cell_type": "code",
   "execution_count": 400,
   "id": "257da36f",
   "metadata": {},
   "outputs": [
    {
     "data": {
      "text/html": [
       "<div>\n",
       "<style scoped>\n",
       "    .dataframe tbody tr th:only-of-type {\n",
       "        vertical-align: middle;\n",
       "    }\n",
       "\n",
       "    .dataframe tbody tr th {\n",
       "        vertical-align: top;\n",
       "    }\n",
       "\n",
       "    .dataframe thead th {\n",
       "        text-align: right;\n",
       "    }\n",
       "</style>\n",
       "<table border=\"1\" class=\"dataframe\">\n",
       "  <thead>\n",
       "    <tr style=\"text-align: right;\">\n",
       "      <th></th>\n",
       "      <th>CreditScore</th>\n",
       "      <th>Geography</th>\n",
       "      <th>Gender</th>\n",
       "      <th>Age</th>\n",
       "      <th>Tenure</th>\n",
       "      <th>Balance</th>\n",
       "      <th>NumOfProducts</th>\n",
       "      <th>HasCrCard</th>\n",
       "      <th>IsActiveMember</th>\n",
       "      <th>EstimatedSalary</th>\n",
       "      <th>Exited</th>\n",
       "      <th>random</th>\n",
       "    </tr>\n",
       "  </thead>\n",
       "  <tbody>\n",
       "    <tr>\n",
       "      <th>0</th>\n",
       "      <td>619</td>\n",
       "      <td>France</td>\n",
       "      <td>Female</td>\n",
       "      <td>42</td>\n",
       "      <td>2</td>\n",
       "      <td>0.00</td>\n",
       "      <td>1</td>\n",
       "      <td>1</td>\n",
       "      <td>1</td>\n",
       "      <td>101348.88</td>\n",
       "      <td>1</td>\n",
       "      <td>0.660598</td>\n",
       "    </tr>\n",
       "    <tr>\n",
       "      <th>1</th>\n",
       "      <td>608</td>\n",
       "      <td>Spain</td>\n",
       "      <td>Female</td>\n",
       "      <td>41</td>\n",
       "      <td>1</td>\n",
       "      <td>83807.86</td>\n",
       "      <td>1</td>\n",
       "      <td>0</td>\n",
       "      <td>1</td>\n",
       "      <td>112542.58</td>\n",
       "      <td>0</td>\n",
       "      <td>0.879142</td>\n",
       "    </tr>\n",
       "    <tr>\n",
       "      <th>2</th>\n",
       "      <td>502</td>\n",
       "      <td>France</td>\n",
       "      <td>Female</td>\n",
       "      <td>42</td>\n",
       "      <td>8</td>\n",
       "      <td>159660.80</td>\n",
       "      <td>3</td>\n",
       "      <td>1</td>\n",
       "      <td>0</td>\n",
       "      <td>113931.57</td>\n",
       "      <td>1</td>\n",
       "      <td>0.374596</td>\n",
       "    </tr>\n",
       "    <tr>\n",
       "      <th>3</th>\n",
       "      <td>699</td>\n",
       "      <td>France</td>\n",
       "      <td>Female</td>\n",
       "      <td>39</td>\n",
       "      <td>1</td>\n",
       "      <td>0.00</td>\n",
       "      <td>2</td>\n",
       "      <td>0</td>\n",
       "      <td>0</td>\n",
       "      <td>93826.63</td>\n",
       "      <td>0</td>\n",
       "      <td>0.756826</td>\n",
       "    </tr>\n",
       "    <tr>\n",
       "      <th>4</th>\n",
       "      <td>850</td>\n",
       "      <td>Spain</td>\n",
       "      <td>Female</td>\n",
       "      <td>43</td>\n",
       "      <td>2</td>\n",
       "      <td>125510.82</td>\n",
       "      <td>1</td>\n",
       "      <td>1</td>\n",
       "      <td>1</td>\n",
       "      <td>79084.10</td>\n",
       "      <td>0</td>\n",
       "      <td>0.703070</td>\n",
       "    </tr>\n",
       "    <tr>\n",
       "      <th>...</th>\n",
       "      <td>...</td>\n",
       "      <td>...</td>\n",
       "      <td>...</td>\n",
       "      <td>...</td>\n",
       "      <td>...</td>\n",
       "      <td>...</td>\n",
       "      <td>...</td>\n",
       "      <td>...</td>\n",
       "      <td>...</td>\n",
       "      <td>...</td>\n",
       "      <td>...</td>\n",
       "      <td>...</td>\n",
       "    </tr>\n",
       "    <tr>\n",
       "      <th>9995</th>\n",
       "      <td>771</td>\n",
       "      <td>France</td>\n",
       "      <td>Male</td>\n",
       "      <td>39</td>\n",
       "      <td>5</td>\n",
       "      <td>0.00</td>\n",
       "      <td>2</td>\n",
       "      <td>1</td>\n",
       "      <td>0</td>\n",
       "      <td>96270.64</td>\n",
       "      <td>0</td>\n",
       "      <td>0.317235</td>\n",
       "    </tr>\n",
       "    <tr>\n",
       "      <th>9996</th>\n",
       "      <td>516</td>\n",
       "      <td>France</td>\n",
       "      <td>Male</td>\n",
       "      <td>35</td>\n",
       "      <td>10</td>\n",
       "      <td>57369.61</td>\n",
       "      <td>1</td>\n",
       "      <td>1</td>\n",
       "      <td>1</td>\n",
       "      <td>101699.77</td>\n",
       "      <td>0</td>\n",
       "      <td>0.128173</td>\n",
       "    </tr>\n",
       "    <tr>\n",
       "      <th>9997</th>\n",
       "      <td>709</td>\n",
       "      <td>France</td>\n",
       "      <td>Female</td>\n",
       "      <td>36</td>\n",
       "      <td>7</td>\n",
       "      <td>0.00</td>\n",
       "      <td>1</td>\n",
       "      <td>0</td>\n",
       "      <td>1</td>\n",
       "      <td>42085.58</td>\n",
       "      <td>1</td>\n",
       "      <td>0.953675</td>\n",
       "    </tr>\n",
       "    <tr>\n",
       "      <th>9998</th>\n",
       "      <td>772</td>\n",
       "      <td>Germany</td>\n",
       "      <td>Male</td>\n",
       "      <td>42</td>\n",
       "      <td>3</td>\n",
       "      <td>75075.31</td>\n",
       "      <td>2</td>\n",
       "      <td>1</td>\n",
       "      <td>0</td>\n",
       "      <td>92888.52</td>\n",
       "      <td>1</td>\n",
       "      <td>0.279276</td>\n",
       "    </tr>\n",
       "    <tr>\n",
       "      <th>9999</th>\n",
       "      <td>792</td>\n",
       "      <td>France</td>\n",
       "      <td>Female</td>\n",
       "      <td>28</td>\n",
       "      <td>4</td>\n",
       "      <td>130142.79</td>\n",
       "      <td>1</td>\n",
       "      <td>1</td>\n",
       "      <td>0</td>\n",
       "      <td>38190.78</td>\n",
       "      <td>0</td>\n",
       "      <td>0.883351</td>\n",
       "    </tr>\n",
       "  </tbody>\n",
       "</table>\n",
       "<p>10000 rows × 12 columns</p>\n",
       "</div>"
      ],
      "text/plain": [
       "      CreditScore Geography  Gender  Age  Tenure    Balance  NumOfProducts  \\\n",
       "0             619    France  Female   42       2       0.00              1   \n",
       "1             608     Spain  Female   41       1   83807.86              1   \n",
       "2             502    France  Female   42       8  159660.80              3   \n",
       "3             699    France  Female   39       1       0.00              2   \n",
       "4             850     Spain  Female   43       2  125510.82              1   \n",
       "...           ...       ...     ...  ...     ...        ...            ...   \n",
       "9995          771    France    Male   39       5       0.00              2   \n",
       "9996          516    France    Male   35      10   57369.61              1   \n",
       "9997          709    France  Female   36       7       0.00              1   \n",
       "9998          772   Germany    Male   42       3   75075.31              2   \n",
       "9999          792    France  Female   28       4  130142.79              1   \n",
       "\n",
       "      HasCrCard  IsActiveMember  EstimatedSalary  Exited    random  \n",
       "0             1               1        101348.88       1  0.660598  \n",
       "1             0               1        112542.58       0  0.879142  \n",
       "2             1               0        113931.57       1  0.374596  \n",
       "3             0               0         93826.63       0  0.756826  \n",
       "4             1               1         79084.10       0  0.703070  \n",
       "...         ...             ...              ...     ...       ...  \n",
       "9995          1               0         96270.64       0  0.317235  \n",
       "9996          1               1        101699.77       0  0.128173  \n",
       "9997          0               1         42085.58       1  0.953675  \n",
       "9998          1               0         92888.52       1  0.279276  \n",
       "9999          1               0         38190.78       0  0.883351  \n",
       "\n",
       "[10000 rows x 12 columns]"
      ]
     },
     "execution_count": 400,
     "metadata": {},
     "output_type": "execute_result"
    }
   ],
   "source": [
    "df"
   ]
  },
  {
   "cell_type": "code",
   "execution_count": 28,
   "id": "225ef9fd",
   "metadata": {},
   "outputs": [],
   "source": [
    "#import seaborn\n",
    "import seaborn as sns"
   ]
  },
  {
   "cell_type": "code",
   "execution_count": 401,
   "id": "2c5daad2",
   "metadata": {},
   "outputs": [
    {
     "data": {
      "text/plain": [
       "array(['Female', 'Male'], dtype=object)"
      ]
     },
     "execution_count": 401,
     "metadata": {},
     "output_type": "execute_result"
    }
   ],
   "source": [
    "places = df['Geography'].unique()\n",
    "gender =df['Gender'].unique()\n",
    "gender "
   ]
  },
  {
   "cell_type": "code",
   "execution_count": 403,
   "id": "eba4eff5",
   "metadata": {
    "scrolled": true
   },
   "outputs": [
    {
     "data": {
      "image/png": "[encoded data removed]",
      "text/plain": [
       "<Figure size 1080x1080 with 6 Axes>"
      ]
     },
     "metadata": {
      "needs_background": "light"
     },
     "output_type": "display_data"
    }
   ],
   "source": [
    "#Country wise churn count\n",
    "fig = plt.figure(constrained_layout=True)\n",
    "fig.suptitle('Country and Gender wise churn comparison',size =25)\n",
    "fig.set_figheight(15)\n",
    "fig.set_figwidth(15)\n",
    "# create 3x1 subfigs\n",
    "subfigs = fig.subfigures(nrows=3, ncols=1)\n",
    "for row, subfig in enumerate(subfigs):\n",
    "    country = df[df['Geography']==places[row]]\n",
    "    subfig.suptitle(f'{places[row]}',size = 20)\n",
    "    # create 1x3 subplots per subfig\n",
    "    axs = subfig.subplots(nrows=1, ncols=2,sharex=True,sharey=True)\n",
    "    for col, ax in enumerate(axs):\n",
    "        co = country[country['Gender']==gender[col]]['Exited'].value_counts().to_frame()\n",
    "        sns.barplot(data=co,x=co.index,y='Exited',ax=ax)\n",
    "        ax.set_title(f'{gender[col]}')\n",
    "plt.show()"
   ]
  },
  {
   "cell_type": "code",
   "execution_count": 404,
   "id": "dca99ea4",
   "metadata": {
    "scrolled": true
   },
   "outputs": [
    {
     "data": {
      "text/plain": [
       "Geography  Gender\n",
       "France     Male      2753\n",
       "           Female    2261\n",
       "Germany    Male      1316\n",
       "           Female    1193\n",
       "Spain      Male      1388\n",
       "           Female    1089\n",
       "Name: Gender, dtype: int64"
      ]
     },
     "execution_count": 404,
     "metadata": {},
     "output_type": "execute_result"
    }
   ],
   "source": [
    "group = df.groupby('Geography')\n",
    "#France Male to Female ratio:\n",
    "g = group['Gender'].value_counts() \n",
    "g"
   ]
  },
  {
   "cell_type": "markdown",
   "id": "0d9a1b86",
   "metadata": {},
   "source": [
    "## Male vs. Female Customers\n",
    "\n",
    "1. The number of male customers is greater than the number of female customers in all the listed countries.\n",
    "2. From the graph it can be seen that, the number of female customers exiting a service or the bank, is greater than the number of male customers.\n",
    "3. On the contrary, the number of retained male customers is greater than the number of female customers."
   ]
  },
  {
   "cell_type": "code",
   "execution_count": 405,
   "id": "4d249f3a",
   "metadata": {
    "scrolled": true
   },
   "outputs": [
    {
     "data": {
      "text/plain": [
       "[<matplotlib.axis.XTick at 0x217d80fd8b0>,\n",
       " <matplotlib.axis.XTick at 0x217d80fd7f0>,\n",
       " <matplotlib.axis.XTick at 0x217d7e94a60>,\n",
       " <matplotlib.axis.XTick at 0x217d7f4ab80>,\n",
       " <matplotlib.axis.XTick at 0x217d7f58280>,\n",
       " <matplotlib.axis.XTick at 0x217d7f58970>,\n",
       " <matplotlib.axis.XTick at 0x217d7f53220>,\n",
       " <matplotlib.axis.XTick at 0x217d7f588b0>,\n",
       " <matplotlib.axis.XTick at 0x217d80fdfa0>,\n",
       " <matplotlib.axis.XTick at 0x217d7e90fd0>]"
      ]
     },
     "execution_count": 405,
     "metadata": {},
     "output_type": "execute_result"
    },
    {
     "data": {
      "image/png": "[encoded data removed]",
      "text/plain": [
       "<Figure size 1080x1080 with 2 Axes>"
      ]
     },
     "metadata": {
      "needs_background": "light"
     },
     "output_type": "display_data"
    }
   ],
   "source": [
    "# Exit rate depending on Balance\n",
    "fig,(ax1,ax2) = plt.subplots(2,1)\n",
    "fig.set_figheight(15)\n",
    "fig.set_figwidth(15)\n",
    "sns.boxplot(data=df,x='Exited',y='Balance',ax=ax1)\n",
    "bins = np.linspace(df.Balance.min(), df.Balance.max(), 10)\n",
    "sns.histplot(data=df,x = 'Balance' ,bins=bins, hue='Exited',ax=ax2,multiple=\"stack\").set_xticks(bins)"
   ]
  },
  {
   "cell_type": "markdown",
   "id": "f7677e06",
   "metadata": {},
   "source": [
    "1. The distribution of people likely to exit a service or the bank is more scattered. \n",
    "2. Also, number of people likely to exit a service or the bank shows a rising trend in the range, 28000-139000, which then starts falling off again."
   ]
  },
  {
   "cell_type": "code",
   "execution_count": 411,
   "id": "f742dcd3",
   "metadata": {},
   "outputs": [
    {
     "data": {
      "text/plain": [
       "<AxesSubplot:xlabel='Exited', ylabel='EstimatedSalary'>"
      ]
     },
     "execution_count": 411,
     "metadata": {},
     "output_type": "execute_result"
    },
    {
     "data": {
      "image/png": "[encoded data removed]",
      "text/plain": [
       "<Figure size 432x288 with 1 Axes>"
      ]
     },
     "metadata": {
      "needs_background": "light"
     },
     "output_type": "display_data"
    }
   ],
   "source": [
    "# Exit rate depending on EstimatedSalary\n",
    "sns.boxplot(data=df,x='Exited',y='EstimatedSalary')"
   ]
  },
  {
   "cell_type": "markdown",
   "id": "7df27fdb",
   "metadata": {},
   "source": [
    " 1. The distribution of people based on their estimated salary seems to be the same. So, the salary does'nt seem to impact whether a person will leave the bank or not. "
   ]
  },
  {
   "cell_type": "code",
   "execution_count": 412,
   "id": "ab7463e4",
   "metadata": {},
   "outputs": [
    {
     "data": {
      "text/plain": [
       "<AxesSubplot:xlabel='Exited', ylabel='CreditScore'>"
      ]
     },
     "execution_count": 412,
     "metadata": {},
     "output_type": "execute_result"
    },
    {
     "data": {
      "image/png": "[encoded data removed]",
      "text/plain": [
       "<Figure size 432x288 with 1 Axes>"
      ]
     },
     "metadata": {
      "needs_background": "light"
     },
     "output_type": "display_data"
    }
   ],
   "source": [
    "# Exit rate depending on Credit score\n",
    "sns.boxplot(data = df, x = 'Exited', y = 'CreditScore' )"
   ]
  },
  {
   "cell_type": "markdown",
   "id": "e1faa72a",
   "metadata": {},
   "source": [
    "1. The distribution of people based on their credit score seems to be the same, with a few people with low credit scores exiting a service or the bank. So, the salary doesn't seem to have much impact on whether a person will leave the bank or not. "
   ]
  },
  {
   "cell_type": "code",
   "execution_count": 427,
   "id": "7b1f3ce2",
   "metadata": {
    "scrolled": true
   },
   "outputs": [
    {
     "data": {
      "text/plain": [
       "[<matplotlib.axis.XTick at 0x217d9f2feb0>,\n",
       " <matplotlib.axis.XTick at 0x217d9f2fe80>,\n",
       " <matplotlib.axis.XTick at 0x217d9f1baf0>,\n",
       " <matplotlib.axis.XTick at 0x217d9f369a0>,\n",
       " <matplotlib.axis.XTick at 0x217d9ef2640>,\n",
       " <matplotlib.axis.XTick at 0x217d9ef2e80>,\n",
       " <matplotlib.axis.XTick at 0x217d9ef4610>,\n",
       " <matplotlib.axis.XTick at 0x217d9ec8160>,\n",
       " <matplotlib.axis.XTick at 0x217d9ec8970>,\n",
       " <matplotlib.axis.XTick at 0x217d9ec8910>]"
      ]
     },
     "execution_count": 427,
     "metadata": {},
     "output_type": "execute_result"
    },
    {
     "data": {
      "image/png": "[encoded data removed]",
      "text/plain": [
       "<Figure size 432x1080 with 2 Axes>"
      ]
     },
     "metadata": {
      "needs_background": "light"
     },
     "output_type": "display_data"
    }
   ],
   "source": [
    "# Exit rate depending on Age\n",
    "fig,(ax1,ax2) = plt.subplots(2,1)\n",
    "fig.set_figheight(15)\n",
    "sns.boxplot(data = df, x = 'Exited', y = 'Age',ax=ax1)\n",
    "bins = np.linspace(df.Age.min(), df.Age.max(), 10)\n",
    "sns.histplot(data=df,x = 'Age' ,bins=bins, hue='Exited',ax=ax2,multiple=\"stack\").set_xticks(bins)\n",
    "\n"
   ]
  },
  {
   "cell_type": "markdown",
   "id": "712e76a0",
   "metadata": {},
   "source": [
    " 1. Graph shows a rising trend for people who are more likely to exit the bank or a service in the age group of 18-50 yrs, which then starts falling off gradually."
   ]
  },
  {
   "cell_type": "code",
   "execution_count": 414,
   "id": "af6c7244",
   "metadata": {},
   "outputs": [
    {
     "data": {
      "text/plain": [
       "array([ 2,  1,  8,  7,  4,  6,  3, 10,  5,  9,  0], dtype=int64)"
      ]
     },
     "execution_count": 414,
     "metadata": {},
     "output_type": "execute_result"
    }
   ],
   "source": [
    "# Exit rate depending on Tenure\n",
    "tenure  = df['Tenure'].unique()\n",
    "tenure"
   ]
  },
  {
   "cell_type": "code",
   "execution_count": 415,
   "id": "2cc548f8",
   "metadata": {
    "scrolled": true
   },
   "outputs": [
    {
     "data": {
      "text/plain": [
       "<seaborn.axisgrid.FacetGrid at 0x217d85ff6d0>"
      ]
     },
     "execution_count": 415,
     "metadata": {},
     "output_type": "execute_result"
    },
    {
     "data": {
      "image/png": "[encoded data removed]",
      "text/plain": [
       "<Figure size 402.375x360 with 1 Axes>"
      ]
     },
     "metadata": {
      "needs_background": "light"
     },
     "output_type": "display_data"
    }
   ],
   "source": [
    "ten = df.groupby('Tenure')['Exited'].value_counts().to_frame()\n",
    "ten.rename(columns={'Exited':'count'},inplace=True)\n",
    "ten.reset_index(inplace=True)\n",
    "sns.catplot(kind = 'bar', data=ten,x ='Tenure',y='count',hue='Exited')\n",
    "\n"
   ]
  },
  {
   "cell_type": "markdown",
   "id": "cfb83492",
   "metadata": {},
   "source": [
    "1. The exit rate doesn't seem to depend much on tenure. "
   ]
  },
  {
   "cell_type": "code",
   "execution_count": 416,
   "id": "a216f974",
   "metadata": {},
   "outputs": [
    {
     "data": {
      "text/plain": [
       "array([1, 3, 2, 4], dtype=int64)"
      ]
     },
     "execution_count": 416,
     "metadata": {},
     "output_type": "execute_result"
    }
   ],
   "source": [
    "# Exit rate depending on number of products\n",
    "pro  = df['NumOfProducts'].unique()\n",
    "pro"
   ]
  },
  {
   "cell_type": "code",
   "execution_count": 417,
   "id": "63e27168",
   "metadata": {
    "scrolled": true
   },
   "outputs": [
    {
     "data": {
      "text/plain": [
       "<seaborn.axisgrid.FacetGrid at 0x217d85b0f40>"
      ]
     },
     "execution_count": 417,
     "metadata": {},
     "output_type": "execute_result"
    },
    {
     "data": {
      "image/png": "[encoded data removed]",
      "text/plain": [
       "<Figure size 402.375x360 with 1 Axes>"
      ]
     },
     "metadata": {
      "needs_background": "light"
     },
     "output_type": "display_data"
    }
   ],
   "source": [
    "p = df.groupby('NumOfProducts')['Exited'].value_counts().to_frame()\n",
    "p.rename(columns={'Exited':'count'},inplace=True)\n",
    "p.reset_index(inplace=True)\n",
    "sns.catplot(kind = 'bar', data=p,x ='NumOfProducts',y='count',hue='Exited')\n"
   ]
  },
  {
   "cell_type": "markdown",
   "id": "26fb5b79",
   "metadata": {},
   "source": [
    "1. The more the number of products a person owns the less likely they are to exit a service or the bank."
   ]
  },
  {
   "cell_type": "code",
   "execution_count": 418,
   "id": "1fe9acc6",
   "metadata": {},
   "outputs": [
    {
     "data": {
      "text/plain": [
       "<seaborn.axisgrid.FacetGrid at 0x217d8cee7f0>"
      ]
     },
     "execution_count": 418,
     "metadata": {},
     "output_type": "execute_result"
    },
    {
     "data": {
      "image/png": "[encoded data removed]",
      "text/plain": [
       "<Figure size 402.375x360 with 1 Axes>"
      ]
     },
     "metadata": {
      "needs_background": "light"
     },
     "output_type": "display_data"
    }
   ],
   "source": [
    "# Exit rate depending on whether a person has credit card or not\n",
    "card = df.groupby('HasCrCard')['Exited'].value_counts().to_frame()\n",
    "card.rename(columns={'Exited':'count'},inplace=True)\n",
    "card.reset_index(inplace=True)\n",
    "sns.catplot(kind = 'bar', data=card,x ='HasCrCard',y='count',hue='Exited')\n"
   ]
  },
  {
   "cell_type": "markdown",
   "id": "dab07b78",
   "metadata": {},
   "source": [
    "1. People owning a credit card are less likely to exit a service or the bank."
   ]
  },
  {
   "cell_type": "code",
   "execution_count": 419,
   "id": "26279cee",
   "metadata": {},
   "outputs": [
    {
     "data": {
      "text/plain": [
       "<seaborn.axisgrid.FacetGrid at 0x217d9ce0460>"
      ]
     },
     "execution_count": 419,
     "metadata": {},
     "output_type": "execute_result"
    },
    {
     "data": {
      "image/png": "[encoded data removed]",
      "text/plain": [
       "<Figure size 402.375x360 with 1 Axes>"
      ]
     },
     "metadata": {
      "needs_background": "light"
     },
     "output_type": "display_data"
    }
   ],
   "source": [
    "# Exit rate depending on whether a person is an active member\n",
    "active = df.groupby('IsActiveMember')['Exited'].value_counts().to_frame()\n",
    "active.rename(columns={'Exited':'count'},inplace=True)\n",
    "active.reset_index(inplace=True)\n",
    "sns.catplot(kind = 'bar', data=active,x ='IsActiveMember',y='count',hue='Exited')"
   ]
  },
  {
   "cell_type": "markdown",
   "id": "d0907415",
   "metadata": {},
   "source": [
    "1. Active members card are less likely to exit a service or the bank."
   ]
  },
  {
   "cell_type": "markdown",
   "id": "52fe8812",
   "metadata": {},
   "source": [
    "## Data Transformation and Pre-processing "
   ]
  },
  {
   "cell_type": "code",
   "execution_count": 457,
   "id": "45365093",
   "metadata": {},
   "outputs": [],
   "source": [
    "#Feature selection and one hot encoding\n",
    "features = df[['Geography','Gender','Age','Balance','NumOfProducts','HasCrCard','IsActiveMember']]\n",
    "features = features.replace({'Male':1,'Female':0})"
   ]
  },
  {
   "cell_type": "code",
   "execution_count": 458,
   "id": "7eb10c64",
   "metadata": {},
   "outputs": [
    {
     "data": {
      "text/html": [
       "<div>\n",
       "<style scoped>\n",
       "    .dataframe tbody tr th:only-of-type {\n",
       "        vertical-align: middle;\n",
       "    }\n",
       "\n",
       "    .dataframe tbody tr th {\n",
       "        vertical-align: top;\n",
       "    }\n",
       "\n",
       "    .dataframe thead th {\n",
       "        text-align: right;\n",
       "    }\n",
       "</style>\n",
       "<table border=\"1\" class=\"dataframe\">\n",
       "  <thead>\n",
       "    <tr style=\"text-align: right;\">\n",
       "      <th></th>\n",
       "      <th>Gender</th>\n",
       "      <th>Age</th>\n",
       "      <th>Balance</th>\n",
       "      <th>NumOfProducts</th>\n",
       "      <th>HasCrCard</th>\n",
       "      <th>IsActiveMember</th>\n",
       "      <th>France</th>\n",
       "      <th>Germany</th>\n",
       "      <th>Spain</th>\n",
       "    </tr>\n",
       "  </thead>\n",
       "  <tbody>\n",
       "    <tr>\n",
       "      <th>0</th>\n",
       "      <td>0</td>\n",
       "      <td>42</td>\n",
       "      <td>0.00</td>\n",
       "      <td>1</td>\n",
       "      <td>1</td>\n",
       "      <td>1</td>\n",
       "      <td>1</td>\n",
       "      <td>0</td>\n",
       "      <td>0</td>\n",
       "    </tr>\n",
       "    <tr>\n",
       "      <th>1</th>\n",
       "      <td>0</td>\n",
       "      <td>41</td>\n",
       "      <td>83807.86</td>\n",
       "      <td>1</td>\n",
       "      <td>0</td>\n",
       "      <td>1</td>\n",
       "      <td>0</td>\n",
       "      <td>0</td>\n",
       "      <td>1</td>\n",
       "    </tr>\n",
       "    <tr>\n",
       "      <th>2</th>\n",
       "      <td>0</td>\n",
       "      <td>42</td>\n",
       "      <td>159660.80</td>\n",
       "      <td>3</td>\n",
       "      <td>1</td>\n",
       "      <td>0</td>\n",
       "      <td>1</td>\n",
       "      <td>0</td>\n",
       "      <td>0</td>\n",
       "    </tr>\n",
       "    <tr>\n",
       "      <th>3</th>\n",
       "      <td>0</td>\n",
       "      <td>39</td>\n",
       "      <td>0.00</td>\n",
       "      <td>2</td>\n",
       "      <td>0</td>\n",
       "      <td>0</td>\n",
       "      <td>1</td>\n",
       "      <td>0</td>\n",
       "      <td>0</td>\n",
       "    </tr>\n",
       "    <tr>\n",
       "      <th>4</th>\n",
       "      <td>0</td>\n",
       "      <td>43</td>\n",
       "      <td>125510.82</td>\n",
       "      <td>1</td>\n",
       "      <td>1</td>\n",
       "      <td>1</td>\n",
       "      <td>0</td>\n",
       "      <td>0</td>\n",
       "      <td>1</td>\n",
       "    </tr>\n",
       "  </tbody>\n",
       "</table>\n",
       "</div>"
      ],
      "text/plain": [
       "   Gender  Age    Balance  NumOfProducts  HasCrCard  IsActiveMember  France  \\\n",
       "0       0   42       0.00              1          1               1       1   \n",
       "1       0   41   83807.86              1          0               1       0   \n",
       "2       0   42  159660.80              3          1               0       1   \n",
       "3       0   39       0.00              2          0               0       1   \n",
       "4       0   43  125510.82              1          1               1       0   \n",
       "\n",
       "   Germany  Spain  \n",
       "0        0      0  \n",
       "1        0      1  \n",
       "2        0      0  \n",
       "3        0      0  \n",
       "4        0      1  "
      ]
     },
     "execution_count": 458,
     "metadata": {},
     "output_type": "execute_result"
    }
   ],
   "source": [
    "features = pd.concat([features,pd.get_dummies(df['Geography'])], axis=1)\n",
    "features.drop(['Geography'], axis = 1,inplace=True)\n",
    "features.head()\n"
   ]
  },
  {
   "cell_type": "code",
   "execution_count": 462,
   "id": "2da3ac38",
   "metadata": {},
   "outputs": [
    {
     "data": {
      "text/plain": [
       "array([[-1.09598752,  0.29351742, -1.22584767, ...,  0.99720391,\n",
       "        -0.57873591, -0.57380915],\n",
       "       [-1.09598752,  0.19816383,  0.11735002, ..., -1.00280393,\n",
       "        -0.57873591,  1.74273971],\n",
       "       [-1.09598752,  0.29351742,  1.33305335, ...,  0.99720391,\n",
       "        -0.57873591, -0.57380915],\n",
       "       ...,\n",
       "       [-1.09598752, -0.27860412, -1.22584767, ...,  0.99720391,\n",
       "        -0.57873591, -0.57380915],\n",
       "       [ 0.91241915,  0.29351742, -0.02260751, ..., -1.00280393,\n",
       "         1.72790383, -0.57380915],\n",
       "       [-1.09598752, -1.04143285,  0.85996499, ...,  0.99720391,\n",
       "        -0.57873591, -0.57380915]])"
      ]
     },
     "execution_count": 462,
     "metadata": {},
     "output_type": "execute_result"
    }
   ],
   "source": [
    "#Standardization\n",
    "std = preprocessing.StandardScaler()\n",
    "X = std.fit_transform(features)\n",
    "X"
   ]
  },
  {
   "cell_type": "code",
   "execution_count": 583,
   "id": "aac68d48",
   "metadata": {},
   "outputs": [
    {
     "data": {
      "text/plain": [
       "0       1\n",
       "1       0\n",
       "2       1\n",
       "3       0\n",
       "4       0\n",
       "       ..\n",
       "9995    0\n",
       "9996    0\n",
       "9997    1\n",
       "9998    1\n",
       "9999    0\n",
       "Name: Exited, Length: 10000, dtype: int64"
      ]
     },
     "execution_count": 583,
     "metadata": {},
     "output_type": "execute_result"
    }
   ],
   "source": [
    "y = df['Exited']\n",
    "y"
   ]
  },
  {
   "cell_type": "code",
   "execution_count": 464,
   "id": "dedefe82",
   "metadata": {},
   "outputs": [],
   "source": [
    "from sklearn.model_selection import train_test_split"
   ]
  },
  {
   "cell_type": "code",
   "execution_count": 584,
   "id": "f156f9e8",
   "metadata": {},
   "outputs": [],
   "source": [
    "x_tr,x_tst,y_tr,y_tst = train_test_split(X,y,test_size=0.2,shuffle=True,random_state=42)"
   ]
  },
  {
   "cell_type": "code",
   "execution_count": 585,
   "id": "baf52f92",
   "metadata": {},
   "outputs": [
    {
     "data": {
      "text/plain": [
       "((8000, 9), (8000,), (2000, 9), (2000,))"
      ]
     },
     "execution_count": 585,
     "metadata": {},
     "output_type": "execute_result"
    }
   ],
   "source": [
    "x_tr.shape, y_tr.shape,x_tst.shape, y_tst.shape,"
   ]
  },
  {
   "cell_type": "markdown",
   "id": "08e3ebe2",
   "metadata": {},
   "source": [
    "# Model imports and fitting"
   ]
  },
  {
   "cell_type": "code",
   "execution_count": 494,
   "id": "ffcd9a53",
   "metadata": {},
   "outputs": [
    {
     "name": "stdout",
     "output_type": "stream",
     "text": [
      "Collecting xgboost\n",
      "  Downloading xgboost-1.6.1-py3-none-win_amd64.whl (125.4 MB)\n",
      "Requirement already satisfied: scipy in c:\\users\\nishankur\\anaconda3\\lib\\site-packages (from xgboost) (1.7.1)\n",
      "Requirement already satisfied: numpy in c:\\users\\nishankur\\anaconda3\\lib\\site-packages (from xgboost) (1.20.3)\n",
      "Installing collected packages: xgboost\n",
      "Successfully installed xgboost-1.6.1\n"
     ]
    }
   ],
   "source": [
    "!pip install xgboost"
   ]
  },
  {
   "cell_type": "code",
   "execution_count": 524,
   "id": "da095b53",
   "metadata": {},
   "outputs": [],
   "source": [
    "#Import the various models\n",
    "from sklearn.linear_model import LogisticRegression\n",
    "from sklearn.preprocessing import PolynomialFeatures\n",
    "from sklearn.svm import SVC\n",
    "from sklearn.ensemble import RandomForestClassifier\n",
    "from xgboost import XGBClassifier\n",
    "from sklearn.model_selection import GridSearchCV"
   ]
  },
  {
   "cell_type": "code",
   "execution_count": 590,
   "id": "b302fe1e",
   "metadata": {},
   "outputs": [],
   "source": [
    "#Model selection\n",
    "def best_model(clf):\n",
    "    print(clf.best_score_)    \n",
    "    print(clf.best_params_)\n",
    "    print(clf.best_estimator_)"
   ]
  },
  {
   "cell_type": "code",
   "execution_count": 601,
   "id": "84aca710",
   "metadata": {},
   "outputs": [],
   "source": [
    "#Classification accuracy\n",
    "from sklearn.metrics import jaccard_score\n",
    "from sklearn.metrics import f1_score\n",
    "from sklearn.metrics import log_loss\n",
    "from sklearn.metrics import accuracy_score\n",
    "from sklearn.metrics import classification_report\n",
    "from sklearn.metrics import roc_auc_score\n",
    "from sklearn.metrics import roc_curve"
   ]
  },
  {
   "cell_type": "markdown",
   "id": "44fcefab",
   "metadata": {},
   "source": [
    "## Logistic Regression"
   ]
  },
  {
   "cell_type": "code",
   "execution_count": 540,
   "id": "6dd3c59f",
   "metadata": {},
   "outputs": [
    {
     "name": "stdout",
     "output_type": "stream",
     "text": [
      "0.707375\n",
      "{'C': 50, 'fit_intercept': True, 'intercept_scaling': 1, 'max_iter': 250, 'penalty': 'l2', 'solver': 'sag', 'tol': 0.0001}\n",
      "LogisticRegression(C=50, class_weight='balanced', max_iter=250, solver='sag')\n"
     ]
    }
   ],
   "source": [
    "# Fit logistic regression\n",
    "param_grid = {'C': [0.1,0.5,1,10,50,100], 'max_iter': [250], 'fit_intercept':[True],'penalty':['l2'], 'tol':[0.00001,0.0001,0.000001],'solver':['liblinear', 'sag', 'saga'],'intercept_scaling':[1]}\n",
    "log_lin= GridSearchCV(LogisticRegression(class_weight='balanced'),param_grid, cv=10, refit=True, verbose=0)\n",
    "log_lin.fit(x_tr, y_tr)\n",
    "best_model(log_lin)"
   ]
  },
  {
   "cell_type": "code",
   "execution_count": 541,
   "id": "952ffcce",
   "metadata": {},
   "outputs": [
    {
     "name": "stdout",
     "output_type": "stream",
     "text": [
      "              precision    recall  f1-score   support\n",
      "\n",
      "           0       0.92      0.72      0.81      1607\n",
      "           1       0.39      0.73      0.51       393\n",
      "\n",
      "    accuracy                           0.72      2000\n",
      "   macro avg       0.65      0.72      0.66      2000\n",
      "weighted avg       0.81      0.72      0.75      2000\n",
      "\n"
     ]
    }
   ],
   "source": [
    "print(classification_report(y_tst,log_lin.best_estimator_.predict(x_tst)))"
   ]
  },
  {
   "cell_type": "code",
   "execution_count": 543,
   "id": "191a57b8",
   "metadata": {},
   "outputs": [
    {
     "name": "stdout",
     "output_type": "stream",
     "text": [
      "              precision    recall  f1-score   support\n",
      "\n",
      "           0       0.92      0.72      0.81      1607\n",
      "           1       0.39      0.73      0.51       393\n",
      "\n",
      "    accuracy                           0.73      2000\n",
      "   macro avg       0.65      0.73      0.66      2000\n",
      "weighted avg       0.81      0.72      0.75      2000\n",
      "\n"
     ]
    }
   ],
   "source": [
    "print(classification_report(y_tst,log_pol.best_estimator_.predict(x_tst)))"
   ]
  },
  {
   "cell_type": "markdown",
   "id": "658d3653",
   "metadata": {},
   "source": [
    "## SVM"
   ]
  },
  {
   "cell_type": "code",
   "execution_count": 546,
   "id": "b05c2133",
   "metadata": {},
   "outputs": [
    {
     "name": "stdout",
     "output_type": "stream",
     "text": [
      "0.7215010070477875\n",
      "{'C': 0.5, 'gamma': 0.001, 'kernel': 'sigmoid', 'probability': True}\n",
      "SVC(C=0.5, class_weight='balanced', gamma=0.001, kernel='sigmoid',\n",
      "    probability=True)\n"
     ]
    }
   ],
   "source": [
    "# Fit SVM with RBF Kernel\n",
    "param_grid = {'C': [0.5,100,150], 'gamma': [0.1,0.01,0.001],'probability':[True],'kernel': ['sigmoid']}\n",
    "SVM_gcv = GridSearchCV(SVC(class_weight='balanced'), param_grid, cv=3, refit=True, verbose=0)\n",
    "SVM_gcv.fit(x_tr,y_tr)\n",
    "best_model(SVM_gcv)"
   ]
  },
  {
   "cell_type": "code",
   "execution_count": 548,
   "id": "636dd673",
   "metadata": {},
   "outputs": [
    {
     "name": "stdout",
     "output_type": "stream",
     "text": [
      "              precision    recall  f1-score   support\n",
      "\n",
      "           0       0.91      0.74      0.82      1607\n",
      "           1       0.40      0.69      0.50       393\n",
      "\n",
      "    accuracy                           0.73      2000\n",
      "   macro avg       0.65      0.72      0.66      2000\n",
      "weighted avg       0.81      0.73      0.76      2000\n",
      "\n"
     ]
    }
   ],
   "source": [
    "print(classification_report(y_tst,SVM_gcv.best_estimator_.predict(x_tst)))"
   ]
  },
  {
   "cell_type": "code",
   "execution_count": 550,
   "id": "c175c3b7",
   "metadata": {},
   "outputs": [
    {
     "name": "stdout",
     "output_type": "stream",
     "text": [
      "0.818999744311781\n",
      "{'C': 50, 'degree': 2, 'gamma': 0.1, 'kernel': 'poly', 'probability': True}\n",
      "SVC(C=50, degree=2, gamma=0.1, kernel='poly', probability=True)\n"
     ]
    }
   ],
   "source": [
    "# Fit SVM with Polynomial Kernel\n",
    "param_grid = {'C': [0.5,1,10,50,100], 'gamma': [0.1,0.01,0.001],'probability':[True],'kernel': ['poly'],'degree':[2] }\n",
    "SVM_pol = GridSearchCV(SVC(), param_grid, cv=3, refit=True, verbose=0)\n",
    "SVM_pol.fit(x_tr,y_tr)\n",
    "best_model(SVM_pol)"
   ]
  },
  {
   "cell_type": "code",
   "execution_count": 551,
   "id": "ed132f1c",
   "metadata": {},
   "outputs": [
    {
     "name": "stdout",
     "output_type": "stream",
     "text": [
      "              precision    recall  f1-score   support\n",
      "\n",
      "           0       0.82      0.99      0.90      1607\n",
      "           1       0.78      0.14      0.23       393\n",
      "\n",
      "    accuracy                           0.82      2000\n",
      "   macro avg       0.80      0.56      0.57      2000\n",
      "weighted avg       0.82      0.82      0.77      2000\n",
      "\n"
     ]
    }
   ],
   "source": [
    "print(classification_report(y_tst,SVM_pol.best_estimator_.predict(x_tst)))"
   ]
  },
  {
   "cell_type": "markdown",
   "id": "e6fbc280",
   "metadata": {},
   "source": [
    "## Random Forest"
   ]
  },
  {
   "cell_type": "code",
   "execution_count": 552,
   "id": "abbc6c08",
   "metadata": {},
   "outputs": [
    {
     "name": "stdout",
     "output_type": "stream",
     "text": [
      "0.8225\n",
      "{'max_depth': 8, 'max_features': 2, 'min_samples_split': 5, 'n_estimators': 50}\n",
      "RandomForestClassifier(class_weight='balanced', max_depth=8, max_features=2,\n",
      "                       min_samples_split=5, n_estimators=50)\n"
     ]
    }
   ],
   "source": [
    "# Fit random forest classifier\n",
    "param_grid = {'max_depth': [3, 5, 6, 7, 8], 'max_features': [2,4,6,7,8,9],'n_estimators':[50,100],'min_samples_split': [3, 5, 6, 7]}\n",
    "RF_gcv = GridSearchCV(RandomForestClassifier(class_weight='balanced'), param_grid, cv=5, refit=True, verbose=0)\n",
    "RF_gcv.fit(x_tr,y_tr)\n",
    "best_model(RF_gcv)"
   ]
  },
  {
   "cell_type": "code",
   "execution_count": 536,
   "id": "fba9d1ae",
   "metadata": {},
   "outputs": [
    {
     "name": "stdout",
     "output_type": "stream",
     "text": [
      "              precision    recall  f1-score   support\n",
      "\n",
      "           0       0.93      0.85      0.89      1607\n",
      "           1       0.55      0.73      0.63       393\n",
      "\n",
      "    accuracy                           0.83      2000\n",
      "   macro avg       0.74      0.79      0.76      2000\n",
      "weighted avg       0.85      0.83      0.84      2000\n",
      "\n"
     ]
    }
   ],
   "source": [
    "print(classification_report(y_tst,RF_gcv.best_estimator_.predict(x_tst)))"
   ]
  },
  {
   "cell_type": "markdown",
   "id": "af990fca",
   "metadata": {},
   "source": [
    "## XGBoost"
   ]
  },
  {
   "cell_type": "code",
   "execution_count": 547,
   "id": "87dfd2ed",
   "metadata": {},
   "outputs": [
    {
     "name": "stdout",
     "output_type": "stream",
     "text": [
      "0.863875\n",
      "{'gamma': 0.01, 'learning_rate': 0.05, 'max_depth': 5, 'min_child_weight': 10, 'n_estimators': 100}\n",
      "XGBClassifier(base_score=0.5, booster='gbtree', callbacks=None,\n",
      "              colsample_bylevel=1, colsample_bynode=1, colsample_bytree=1,\n",
      "              early_stopping_rounds=None, enable_categorical=False,\n",
      "              eval_metric=None, gamma=0.01, gpu_id=-1, grow_policy='depthwise',\n",
      "              importance_type=None, interaction_constraints='',\n",
      "              learning_rate=0.05, max_bin=256, max_cat_to_onehot=4,\n",
      "              max_delta_step=0, max_depth=5, max_leaves=0, min_child_weight=10,\n",
      "              missing=nan, monotone_constraints='()', n_estimators=100,\n",
      "              n_jobs=0, num_parallel_tree=1, predictor='auto', random_state=0,\n",
      "              reg_alpha=0, reg_lambda=1, ...)\n"
     ]
    }
   ],
   "source": [
    "# Fit Extreme Gradient boosting classifier\n",
    "param_grid = {'max_depth': [5,6,7,8], 'gamma': [0.01,0.001,0.001],'min_child_weight':[1,5,10], 'learning_rate': [0.05,0.1, 0.2, 0.3], 'n_estimators':[5,10,20,100]}\n",
    "xgb_gcv = GridSearchCV(XGBClassifier(), param_grid, cv=5, refit=True, verbose=0)\n",
    "xgb_gcv.fit(x_tr,y_tr)\n",
    "best_model(xgb_gcv)"
   ]
  },
  {
   "cell_type": "code",
   "execution_count": 549,
   "id": "3c968b8e",
   "metadata": {},
   "outputs": [
    {
     "name": "stdout",
     "output_type": "stream",
     "text": [
      "              precision    recall  f1-score   support\n",
      "\n",
      "           0       0.88      0.96      0.92      1607\n",
      "           1       0.74      0.46      0.56       393\n",
      "\n",
      "    accuracy                           0.86      2000\n",
      "   macro avg       0.81      0.71      0.74      2000\n",
      "weighted avg       0.85      0.86      0.85      2000\n",
      "\n"
     ]
    }
   ],
   "source": [
    "print(classification_report(y_tst,xgb_gcv.best_estimator_.predict(x_tst)))"
   ]
  },
  {
   "cell_type": "code",
   "execution_count": 621,
   "id": "1f60c55a",
   "metadata": {},
   "outputs": [],
   "source": [
    "def roc_auc(y_actual, method,method2):\n",
    "    ra_score = roc_auc_score(y_actual, method); \n",
    "    fpr, tpr, thresholds = roc_curve(y_actual, method2); \n",
    "    return (ra_score, fpr, tpr)"
   ]
  },
  {
   "cell_type": "code",
   "execution_count": 622,
   "id": "9f77aef3",
   "metadata": {},
   "outputs": [],
   "source": [
    "#ROC curve\n",
    "auc_log_lin, fpr_log_lin, tpr_log_lin = roc_auc(y_tr, log_lin.predict(x_tr),log_lin.predict_proba(x_tr)[:,1])\n",
    "auc_SVM_r, fpr_SVM_r, tpr_SVM_r = roc_auc(y_tr, SVM_gcv.predict(x_tr),SVM_gcv.predict_proba(x_tr)[:,1])\n",
    "auc_SVM_pol, fpr_SVM_pol, tpr_SVM_pol = roc_auc(y_tr,SVM_pol.best_estimator_.predict(x_tr),SVM_pol.best_estimator_.predict_proba(x_tr)[:,1])\n",
    "auc_RF, fpr_RF, tpr_RF = roc_auc(y_tr,RF_gcv.best_estimator_.predict(x_tr),RF_gcv.best_estimator_.predict_proba(x_tr)[:,1])\n",
    "auc_XGB, fpr_XGB, tpr_XGB = roc_auc(y_tr, xgb_gcv.best_estimator_.predict(x_tr),xgb_gcv.best_estimator_.predict_proba(x_tr)[:,1])\n"
   ]
  },
  {
   "cell_type": "code",
   "execution_count": 623,
   "id": "912974ae",
   "metadata": {},
   "outputs": [
    {
     "data": {
      "image/png": "[encoded data removed]",
      "text/plain": [
       "<Figure size 864x432 with 1 Axes>"
      ]
     },
     "metadata": {
      "needs_background": "light"
     },
     "output_type": "display_data"
    }
   ],
   "source": [
    "plt.figure(figsize = (12,6), linewidth= 1)\n",
    "plt.plot(fpr_log_lin, tpr_log_lin, label = 'Log_Reg Linr Score: ' + str(round(auc_log_lin, 5)))\n",
    "plt.plot(fpr_SVM_r, tpr_SVM_r, label = 'SVM RBF Score: ' + str(round(auc_SVM_r, 5)))\n",
    "plt.plot(fpr_SVM_pol, tpr_SVM_pol, label = 'SVM POL Score: ' + str(round(auc_SVM_pol, 5)))\n",
    "plt.plot(fpr_RF, tpr_RF, label = 'RF score: ' + str(round(auc_RF, 5)))\n",
    "plt.plot(fpr_XGB, tpr_XGB, label = 'XGB score: ' + str(round(auc_XGB, 5)))\n",
    "plt.plot([0,1], [0,1], 'k--', label = 'Random: 0.5')\n",
    "plt.xlabel('False positive rate')\n",
    "plt.ylabel('True positive rate')\n",
    "plt.title('ROC Curve')\n",
    "plt.legend(loc='best')\n",
    "#plt.savefig('roc_results_ratios.png')\n",
    "plt.show()"
   ]
  },
  {
   "cell_type": "markdown",
   "id": "31a9879f",
   "metadata": {},
   "source": [
    "## The purpose of this project is to help the bank retain the customers, who are likely to exit the bank or a service. We want a model which predicts whether a customer will churn or not, with high accuracy. The models with the best accuracies are SVM(polynomial kernel), Random Forest and XGBoost with 81.8%, 82.2%, 86.38% respectively. But since the data is imbalanced with a greater number of samples of retained customers, we will select a model with high recall so that we can minimize the number of customers churning. We see that Random Forest is the model with the highest recall score(0.73). Also, it has a decent precision and the highest AUC score (from ROC curve). Hence we will select Random Forest as the best model. "
   ]
  },
  {
   "cell_type": "markdown",
   "id": "a841472b",
   "metadata": {},
   "source": [
    "# Conclusion"
   ]
  },
  {
   "cell_type": "markdown",
   "id": "7fbd950b",
   "metadata": {},
   "source": [
    "After proper inspection and evaluation, Random Forest Classifier seems to have performed the best. But, there is an imbalance of samples. A greater number of samples of churned customers is required to strike a balance between the churned and retained customers, for better prediction. Hence, the model must be retrained in the future with more balanced samples for better accuracy and precision. "
   ]
  },
  {
   "cell_type": "code",
   "execution_count": null,
   "id": "94f42106",
   "metadata": {},
   "outputs": [],
   "source": []
  }
 ],
 "metadata": {
  "kernelspec": {
   "display_name": "Python 3 (ipykernel)",
   "language": "python",
   "name": "python3"
  },
  "language_info": {
   "codemirror_mode": {
    "name": "ipython",
    "version": 3
   },
   "file_extension": ".py",
   "mimetype": "text/x-python",
   "name": "python",
   "nbconvert_exporter": "python",
   "pygments_lexer": "ipython3",
   "version": "3.9.7"
  }
 },
 "nbformat": 4,
 "nbformat_minor": 5
}
